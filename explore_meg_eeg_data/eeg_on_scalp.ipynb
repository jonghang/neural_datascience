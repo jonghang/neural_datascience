{
 "cells": [
  {
   "cell_type": "markdown",
   "metadata": {},
   "source": [
    "\n",
    "\n",
    "# Plotting EEG sensors on the scalp\n",
    "\n",
    "In this example, digitized EEG sensor locations are shown on the scalp.\n"
   ]
  },
  {
   "cell_type": "markdown",
   "metadata": {
    "jupyter": {
     "outputs_hidden": false
    }
   },
   "source": [
    "https://mne.tools/stable/generated/mne.viz.plot_alignment.html"
   ]
  },
  {
   "cell_type": "code",
   "execution_count": 1,
   "metadata": {
    "collapsed": false,
    "jupyter": {
     "outputs_hidden": false
    },
    "tags": []
   },
   "outputs": [],
   "source": [
    "import os\n",
    "import os.path as op\n",
    "import mne\n",
    "from mne.viz import plot_alignment, set_3d_view\n",
    "\n",
    "%matplotlib inline"
   ]
  },
  {
   "cell_type": "markdown",
   "metadata": {},
   "source": [
    "# Default Plot"
   ]
  },
  {
   "cell_type": "code",
   "execution_count": 2,
   "metadata": {
    "collapsed": false,
    "jupyter": {
     "outputs_hidden": false
    },
    "tags": []
   },
   "outputs": [
    {
     "name": "stdout",
     "output_type": "stream",
     "text": [
      "Opening raw data file /Users/jonghang/mne_data/MNE-sample-data/MEG/sample/sample_audvis_raw.fif...\n",
      "    Read a total of 3 projection items:\n",
      "        PCA-v1 (1 x 102)  idle\n",
      "        PCA-v2 (1 x 102)  idle\n",
      "        PCA-v3 (1 x 102)  idle\n",
      "    Range : 25800 ... 192599 =     42.956 ...   320.670 secs\n",
      "Ready.\n",
      "Using pyvistaqt 3d backend.\n",
      "\n",
      "Using outer_skin.surf for head surface.\n",
      "Channel types::\teeg: 59\n",
      "Projecting sensors to the head surface\n"
     ]
    }
   ],
   "source": [
    "SAMPLE_DATA_DIR = op.join(os.environ[\"HOME\"],\n",
    "                           \"mne_data\",\n",
    "                           \"MNE-sample-data\")\n",
    "\n",
    "subjects_dir = op.join(SAMPLE_DATA_DIR, 'subjects')\n",
    "meg_path = op.join(SAMPLE_DATA_DIR, 'MEG', 'sample')\n",
    "\n",
    "trans = mne.read_trans(op.join(meg_path, 'sample_audvis_raw-trans.fif'))\n",
    "raw = mne.io.read_raw_fif(op.join(meg_path, 'sample_audvis_raw.fif'))\n",
    "\n",
    "# Plot electrode locations on scalp\n",
    "fig = plot_alignment(raw.info, trans, subject='sample', dig=False,\n",
    "                     eeg=['original', 'projected'], meg=[],\n",
    "                     coord_frame='head', subjects_dir=subjects_dir)\n",
    "\n",
    "# Set viewing angle\n",
    "set_3d_view(figure=fig, azimuth=135, elevation=80)"
   ]
  },
  {
   "cell_type": "markdown",
   "metadata": {},
   "source": [
    "# Detailed Plot\n",
    "## Set the Data Directory"
   ]
  },
  {
   "cell_type": "code",
   "execution_count": 3,
   "metadata": {
    "tags": []
   },
   "outputs": [],
   "source": [
    "SAMPLE_DATA_DIR = op.join(os.environ[\"HOME\"],\n",
    "                           \"mne_data\",\n",
    "                           \"MNE-sample-data\")\n",
    "\n",
    "meg_path = op.join(SAMPLE_DATA_DIR, 'MEG', 'sample')"
   ]
  },
  {
   "cell_type": "code",
   "execution_count": 5,
   "metadata": {
    "tags": []
   },
   "outputs": [
    {
     "name": "stdout",
     "output_type": "stream",
     "text": [
      "Opening raw data file /Users/jonghang/mne_data/MNE-sample-data/MEG/sample/sample_audvis_filt-0-40_raw.fif...\n",
      "    Read a total of 4 projection items:\n",
      "        PCA-v1 (1 x 102)  idle\n",
      "        PCA-v2 (1 x 102)  idle\n",
      "        PCA-v3 (1 x 102)  idle\n",
      "        Average EEG reference (1 x 60)  idle\n",
      "    Range : 6450 ... 48149 =     42.956 ...   320.665 secs\n",
      "Ready.\n",
      "Reading 0 ... 41699  =      0.000 ...   277.709 secs...\n",
      "Using outer_skin.surf for head surface.\n",
      "Channel types::\teeg: 59\n",
      "Projecting sensors to the head surface\n"
     ]
    }
   ],
   "source": [
    "fif_trans = mne.read_trans(op.join(meg_path, 'sample_audvis_raw-trans.fif'))\n",
    "fif_raw = mne.io.read_raw_fif(op.join(meg_path, 'sample_audvis_filt-0-40_raw.fif'))\n",
    "\n",
    "fif_raw.load_data()\n",
    "\n",
    "surfaces_dict=dict(brain=0.4, outer_skull=0.6, head=None)\n",
    "\n",
    "# Plot electrode locations on scalp\n",
    "fig = plot_alignment(info = fif_raw.info, \n",
    "                     trans = fif_trans, \n",
    "                     subject = 'sample', \n",
    "                     dig = False,\n",
    "                     eeg = ['original', 'projected'], \n",
    "                     meg = [],\n",
    "                     coord_frame = 'head', \n",
    "                     surfaces = surfaces_dict)\n",
    "\n",
    "# Set viewing angle\n",
    "set_3d_view(figure=fig, azimuth=135, elevation=80)"
   ]
  },
  {
   "cell_type": "code",
   "execution_count": null,
   "metadata": {},
   "outputs": [],
   "source": []
  }
 ],
 "metadata": {
  "kernelspec": {
   "display_name": "Python 3 (ipykernel)",
   "language": "python",
   "name": "python3"
  },
  "language_info": {
   "codemirror_mode": {
    "name": "ipython",
    "version": 3
   },
   "file_extension": ".py",
   "mimetype": "text/x-python",
   "name": "python",
   "nbconvert_exporter": "python",
   "pygments_lexer": "ipython3",
   "version": "3.11.0"
  }
 },
 "nbformat": 4,
 "nbformat_minor": 4
}
