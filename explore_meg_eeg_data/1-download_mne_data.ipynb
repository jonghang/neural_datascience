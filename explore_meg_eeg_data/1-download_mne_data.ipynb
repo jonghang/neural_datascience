{
 "cells": [
  {
   "cell_type": "markdown",
   "id": "98a78fad-8c1c-484d-ba03-306c4907d22f",
   "metadata": {},
   "source": [
    "# Download MNE Data\n",
    "\n",
    "The Minimum Norm Estimation (`mne`) package comes with a number of Magnetoencephalography (MEG) and Electroencephalography (`EEG`) data that we can use.\n",
    "\n",
    "Install `mne` and other supporting package as follow:"
   ]
  },
  {
   "cell_type": "code",
   "execution_count": null,
   "id": "f36cbb2c-801b-4d77-9ad7-79da3f5fbdec",
   "metadata": {
    "tags": []
   },
   "outputs": [],
   "source": [
    "# % pip install mne"
   ]
  },
  {
   "cell_type": "code",
   "execution_count": 1,
   "id": "7dac584b-1849-4b74-aeb4-b9cfde421a47",
   "metadata": {
    "tags": []
   },
   "outputs": [],
   "source": [
    "import os\n",
    "import os.path as op\n",
    "import mne"
   ]
  },
  {
   "cell_type": "markdown",
   "id": "71ef652d-cd57-42c0-92bb-cd940c113a74",
   "metadata": {},
   "source": [
    "__Download MNE Data__\n",
    "\n",
    "A new `mne_data` directory is automatically created in `HOME` and sub directories for specific datasets are also automatically created."
   ]
  },
  {
   "cell_type": "code",
   "execution_count": 2,
   "id": "e990c508-876a-4d2b-9521-d8aeded9e6bb",
   "metadata": {
    "tags": []
   },
   "outputs": [],
   "source": [
    "from mne.datasets import brainstorm\n",
    "from mne.datasets import eegbci\n",
    "from mne.datasets import epilepsy_ecog\n",
    "from mne.datasets import erp_core\n",
    "from mne.datasets import fieldtrip_cmc\n",
    "from mne.datasets import fnirs_motor\n",
    "from mne.datasets import hf_sef\n",
    "from mne.datasets import kiloword\n",
    "from mne.datasets import limo\n",
    "from mne.datasets import misc\n",
    "from mne.datasets import mtrf\n",
    "from mne.datasets import multimodal\n",
    "from mne.datasets import opm\n",
    "from mne.datasets import phantom_4dbti\n",
    "from mne.datasets import refmeg_noise\n",
    "from mne.datasets import sample\n",
    "from mne.datasets import sleep_physionet\n",
    "from mne.datasets import somato\n",
    "from mne.datasets import spm_face\n",
    "from mne.datasets import ssvep\n",
    "from mne.datasets import testing\n",
    "from mne.datasets import visual_92_categories\n",
    "from mne.datasets import tests"
   ]
  },
  {
   "cell_type": "markdown",
   "id": "6ead01c8-f5c9-42cb-8326-6328ddc57e98",
   "metadata": {},
   "source": [
    "Runnng the following cell will initiate download"
   ]
  },
  {
   "cell_type": "code",
   "execution_count": null,
   "id": "166dcd3a-29c2-46b9-af4d-98ff94866576",
   "metadata": {
    "tags": []
   },
   "outputs": [],
   "source": [
    "eegbci_dir = eegbci.data_path()\n",
    "epilepsy_ecog_dir = epilepsy_ecog.data_path()\n",
    "erp_core_dir = erp_core.data_path()\n",
    "fieldtrip_cmc_dir = fieldtrip_cmc.data_path()\n",
    "fnirs_motor_dir = fnirs_motor.data_path()\n",
    "hf_sef_dir = hf_sef.data_path()\n",
    "kiloword_dir = kiloword.data_path()\n",
    "limo_dir = limo.data_path()\n",
    "misc_dir = misc.data_path()\n",
    "mtrf_dir = mtrf.data_path()\n",
    "multimodal_dir = multimodal.data_path()\n",
    "opm_dir = opm.data_path()\n",
    "phantom_4dbti_dir = phantom_4dbti.data_path()\n",
    "refmeg_noise_dir = refmeg_noise.data_path()\n",
    "sample_dir = sample.data_path()\n",
    "sleep_physionet_dir = sleep_physionet.data_path()\n",
    "somato_dir = somato.data_path()\n",
    "spm_face_dir = spm_face.data_path()\n",
    "ssvep_dir =ssvep.data_path()\n",
    "testing_dir = testing.data_path()\n",
    "visual_92_categories_dir = visual_92_categories.data_path()"
   ]
  },
  {
   "cell_type": "markdown",
   "id": "006cd156-2037-4d3f-8b80-2fb62c4e6402",
   "metadata": {},
   "source": [
    "Check if datasets have been downloaded"
   ]
  },
  {
   "cell_type": "code",
   "execution_count": 8,
   "id": "4bbba895-26fc-4666-af10-e24e5b0b4b0b",
   "metadata": {
    "tags": []
   },
   "outputs": [],
   "source": [
    "sample_dir = sample.data_path()\n",
    "fnirs_motor_dir = fnirs_motor.data_path()\n",
    "kiloword_dir = kiloword.data_path()\n",
    "misc_dir = misc.data_path()\n",
    "phantom_4dbti_dir = phantom_4dbti.data_path()"
   ]
  },
  {
   "cell_type": "code",
   "execution_count": 15,
   "id": "cfa0eb2d-e311-47af-9136-2839ffb9d793",
   "metadata": {
    "tags": []
   },
   "outputs": [
    {
     "name": "stdout",
     "output_type": "stream",
     "text": [
      "sample dataset path:    /Users/jonghang/mne_data/MNE-sample-data\n",
      "fNIRS dataset path:     /Users/jonghang/mne_data/MNE-fNIRS-motor-data\n",
      "Kiloword dataset path:  /Users/jonghang/mne_data/MNE-kiloword-data\n",
      "Misc dataset path:      /Users/jonghang/mne_data/MNE-misc-data\n",
      "Phantom dataset path:   /Users/jonghang/mne_data/MNE-phantom-4DBTi\n",
      "Sample dataset exists:    True\n",
      "fNIRS dataset exists:     True\n",
      "Kiloword dataset exists:  True\n",
      "Misc dataset exist:       True\n",
      "Phantom dataset exists:   True\n"
     ]
    }
   ],
   "source": [
    "print(\"sample dataset path:   \", sample_dir)\n",
    "print(\"fNIRS dataset path:    \", fnirs_motor_dir)\n",
    "print(\"Kiloword dataset path: \", kiloword_dir)\n",
    "print(\"Misc dataset path:     \", misc_dir)\n",
    "print(\"Phantom dataset path:  \", phantom_4dbti_dir)\n",
    "\n",
    "print(\"Sample dataset exists:   \", os.path.isdir(sample_dir))\n",
    "print(\"fNIRS dataset exists:    \", os.path.isdir(fnirs_motor_dir))\n",
    "print(\"Kiloword dataset exists: \", os.path.isdir(kiloword_dir))\n",
    "print(\"Misc dataset exist:      \", os.path.isdir(misc_dir))\n",
    "print(\"Phantom dataset exists:  \", os.path.isdir(phantom_4dbti_dir))"
   ]
  },
  {
   "cell_type": "code",
   "execution_count": null,
   "id": "6ad7f9c3-445e-4e0e-9fc5-386a27fb403a",
   "metadata": {},
   "outputs": [],
   "source": []
  }
 ],
 "metadata": {
  "kernelspec": {
   "display_name": "Python 3 (ipykernel)",
   "language": "python",
   "name": "python3"
  },
  "language_info": {
   "codemirror_mode": {
    "name": "ipython",
    "version": 3
   },
   "file_extension": ".py",
   "mimetype": "text/x-python",
   "name": "python",
   "nbconvert_exporter": "python",
   "pygments_lexer": "ipython3",
   "version": "3.11.0"
  }
 },
 "nbformat": 4,
 "nbformat_minor": 5
}
