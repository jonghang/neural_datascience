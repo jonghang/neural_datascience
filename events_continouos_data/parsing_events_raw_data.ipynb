{
 "cells": [
  {
   "cell_type": "markdown",
   "metadata": {},
   "source": [
    "# Parsing Events from Raw Data\n",
    "\n",
    "This tutorial describes how to read experimental events from raw recordings, and how to convert between the two different representations of events within MNE-Python (Events arrays and Annotations objects).\n",
    "\n",
    "This notebook describes in more broadly on reading reading experimental events from a `STIM channel` focusing on `events` and `annotations` \n",
    "\n",
    "Also coveres reading events that are in a marker file or included in the data file as an embedded array. \n"
   ]
  },
  {
   "cell_type": "code",
   "execution_count": 1,
   "metadata": {
    "collapsed": false,
    "jupyter": {
     "outputs_hidden": false
    },
    "tags": []
   },
   "outputs": [],
   "source": [
    "import sys\n",
    "import os\n",
    "import numpy as np\n",
    "import os.path as op\n",
    "sys.path.append(\"../\")\n",
    "from mne_path import PathHandler\n",
    "from glob import glob\n",
    "ph = PathHandler()\n",
    "\n",
    "import mne\n",
    "\n",
    "%matplotlib inline"
   ]
  },
  {
   "cell_type": "markdown",
   "metadata": {},
   "source": [
    "# Read Raw Data"
   ]
  },
  {
   "cell_type": "code",
   "execution_count": 2,
   "metadata": {
    "collapsed": false,
    "jupyter": {
     "outputs_hidden": false
    },
    "tags": []
   },
   "outputs": [
    {
     "name": "stdout",
     "output_type": "stream",
     "text": [
      "Changed to:  /Users/jonghang/mne_data/MNE-sample-data\n",
      "Changed to:  /Users/jonghang/mne_data/MNE-testing-data\n",
      "Opening raw data file /Users/jonghang/mne_data/MNE-sample-data/MEG/sample/sample_audvis_raw.fif...\n",
      "    Read a total of 3 projection items:\n",
      "        PCA-v1 (1 x 102)  idle\n",
      "        PCA-v2 (1 x 102)  idle\n",
      "        PCA-v3 (1 x 102)  idle\n",
      "    Range : 25800 ... 192599 =     42.956 ...   320.670 secs\n",
      "Ready.\n",
      "Reading 0 ... 36037  =      0.000 ...    60.000 secs...\n"
     ]
    },
    {
     "data": {
      "text/html": [
       "<table class=\"table table-hover table-striped table-sm table-responsive small\">\n",
       "    <tr>\n",
       "        <th>Measurement date</th>\n",
       "        \n",
       "        <td>December 03, 2002  19:01:10 GMT</td>\n",
       "        \n",
       "    </tr>\n",
       "    <tr>\n",
       "        <th>Experimenter</th>\n",
       "        \n",
       "        <td>MEG</td>\n",
       "        \n",
       "    </tr>\n",
       "        <th>Participant</th>\n",
       "        \n",
       "        <td>Unknown</td>\n",
       "        \n",
       "    </tr>\n",
       "    <tr>\n",
       "        <th>Digitized points</th>\n",
       "        \n",
       "        <td>146 points</td>\n",
       "        \n",
       "    </tr>\n",
       "    <tr>\n",
       "        <th>Good channels</th>\n",
       "        <td>204 Gradiometers, 102 Magnetometers, 9 Stimulus, 60 EEG, 1 EOG</td>\n",
       "    </tr>\n",
       "    <tr>\n",
       "        <th>Bad channels</th>\n",
       "        <td>MEG 2443, EEG 053</td>\n",
       "    </tr>\n",
       "    <tr>\n",
       "        <th>EOG channels</th>\n",
       "        <td>EOG 061</td>\n",
       "    </tr>\n",
       "    <tr>\n",
       "        <th>ECG channels</th>\n",
       "        <td>Not available</td>\n",
       "    \n",
       "    <tr>\n",
       "        <th>Sampling frequency</th>\n",
       "        <td>600.61 Hz</td>\n",
       "    </tr>\n",
       "    \n",
       "    \n",
       "    <tr>\n",
       "        <th>Highpass</th>\n",
       "        <td>0.10 Hz</td>\n",
       "    </tr>\n",
       "    \n",
       "    \n",
       "    <tr>\n",
       "        <th>Lowpass</th>\n",
       "        <td>172.18 Hz</td>\n",
       "    </tr>\n",
       "    \n",
       "    \n",
       "    <tr>\n",
       "        <th>Projections</th>\n",
       "        <td>PCA-v1 : off<br/>PCA-v2 : off<br/>PCA-v3 : off</td>\n",
       "    </tr>\n",
       "    \n",
       "    \n",
       "    <tr>\n",
       "        <th>Filenames</th>\n",
       "        <td>sample_audvis_raw.fif</td>\n",
       "    </tr>\n",
       "    \n",
       "    <tr>\n",
       "        <th>Duration</th>\n",
       "        <td>00:01:01 (HH:MM:SS)</td>\n",
       "    </tr>\n",
       "</table>"
      ],
      "text/plain": [
       "<Raw | sample_audvis_raw.fif, 376 x 36038 (60.0 s), ~106.6 MB, data loaded>"
      ]
     },
     "execution_count": 2,
     "metadata": {},
     "output_type": "execute_result"
    }
   ],
   "source": [
    "# change to relevant datasets\n",
    "SAMPLE_DATA_DIR = ph.cddir(ph.SAMPLE_DIR)\n",
    "TESTING_DATA_DIR = ph.cddir(ph.TESTING_DIR)\n",
    "\n",
    "# read the raw file\n",
    "sample_data_raw_file = os.path.join(SAMPLE_DATA_DIR,'MEG',\n",
    "                                    'sample',\n",
    "                                    'sample_audvis_raw.fif')\n",
    "\n",
    "# limit to 60\n",
    "fif_raw = mne.io.read_raw_fif(sample_data_raw_file)\n",
    "fif_raw.crop(tmax = 60).load_data()"
   ]
  },
  {
   "cell_type": "markdown",
   "metadata": {},
   "source": [
    "## The Events and Annotations data structures\n",
    "\n",
    "Generally speaking, both the Events and `mne.Annotations` data structures serve the same purpose: they provide a mapping between times during an EEG/MEG recording and a description of what happened at those times. In other words, they associate a *when* with a *what*. The main differences are:\n",
    "\n",
    "1. **Units**: \n",
    "   * The Events data structure represents the ***when* in terms of samples**, \n",
    "   * The `mne.Annotations` data structure represents the ***when* in seconds**.\n",
    "2. **Limits on the description**: the Events data structure represents the *what* as an integer \"Event ID\" code, whereas the `mne.Annotations` data structure represents the *what* as a string.\n",
    "3. **How duration is encoded**: Events in an Event array do not have a duration (though it is possible to represent duration with pairs of onset/offset events within an Events array), whereas each element of an\n",
    "   `mne.Annotations` object necessarily includes a duration (though the duration can be zero if an instantaneous event is desired).\n",
    "4. **Internal representation**: \n",
    "   * Events are stored as an ordinary `numpy.darray`,\n",
    "   * `mne.Annotations` is a `list`-like class defined in MNE-Python"
   ]
  },
  {
   "cell_type": "markdown",
   "metadata": {},
   "source": [
    "## STIM Channel\n",
    "\n",
    "* `STIM CHANNEL` is referring to __Stimulus Channel__ \n",
    "* This channel that does not receive signals from an EEG, MEG, or other sensor\n",
    "* Instead, STIM channels record voltages from experiment-controlling computer.  These voltages are usually short, rectangular DC pulses of fixed magnitudes) that can be divided by:\n",
    "  * __time-locked__ to experimental events, such as the onset of a stimulus or a button-press response by the subject (those pulses are sometimes called `TTL`_ pulses, event pulses, trigger signals, or just \"triggers\")\n",
    "  * __Not strictly time-locked__ that may occur in between trials to indicate the type of stimulus (or experimental condition) that is about to occur on the upcoming trial\n",
    "* In terms of sources of channels:\n",
    "  * The DC pulses may be all on one STIM channel where different experimental events or trial types are encoded as different voltage magnitudes)\n",
    "  * Spread across several channels, in which case the channel(s) on which the pulse(s) occur can be used to encode different events or conditions\n",
    "* Even on systems with multiple STIM channels, there is often one channel that records a weighted sum of the other STIM channels, in such a way that voltage levels on that channel can be unambiguously decoded as particular event types. \n",
    "* The `MNE-sample-data` used in this notebook was acquired from an older Neuromag systems where the \"summation channel\" was typically `STI 014`\n",
    "* `STI101` is the newer system:"
   ]
  },
  {
   "cell_type": "code",
   "execution_count": null,
   "metadata": {
    "collapsed": false,
    "jupyter": {
     "outputs_hidden": false
    },
    "tags": []
   },
   "outputs": [],
   "source": [
    "raw.copy().pick_types(meg=False, stim=True).plot(start=3, duration=6)"
   ]
  },
  {
   "cell_type": "markdown",
   "metadata": {},
   "source": [
    "`STI 014` (the summation channel) contains pulses of different magnitudes can be seen above whereas pulses on other channels have consistent magnitudes. You can also see that every time there is a pulse on one of the\n",
    "other STIM channels, there is a corresponding pulse on `STI 014`.\n",
    "\n",
    "## Converting a STIM channel signal to an Events array\n",
    "\n",
    "* Events recorded on a STIM channel can be converted  into an events array using `~mne.find_events`\n",
    "* The sample number of the onset (or offset) of each pulse is recorded as the event time, the pulse magnitudes are converted into integers, and these pairs of sample numbers plus integer codes are stored in `numpy array` (usually called \"the events array\" or just \"the events\")\n",
    "* In its simplest form, the function requires only the `mne.io.Raw` object, and the name of the channel(s) from which to read events"
   ]
  },
  {
   "cell_type": "code",
   "execution_count": null,
   "metadata": {
    "collapsed": false,
    "jupyter": {
     "outputs_hidden": false
    },
    "tags": []
   },
   "outputs": [],
   "source": [
    "events = mne.find_events(raw, stim_channel='STI 014')\n",
    "print(events[:5])  # show the first 5"
   ]
  },
  {
   "cell_type": "markdown",
   "metadata": {},
   "source": [
    ".. admonition:: The middle column of the Events array\n",
    "    :class: sidebar note\n",
    "\n",
    "    MNE-Python events are actually *three* values: in between the sample\n",
    "    number and the integer event code is a value indicating what the event\n",
    "    code was on the immediately preceding sample. In practice, that value is\n",
    "    almost always ``0``, but it can be used to detect the *endpoint* of an\n",
    "    event whose duration is longer than one sample. See the documentation of\n",
    "    `~mne.find_events` for more details."
   ]
  },
  {
   "cell_type": "markdown",
   "metadata": {},
   "source": [
    "If you don't provide the name of a STIM channel, `mne.find_events` will first look for MNE-Python `config variables <tut-configure-mne>` for variables `MNE_STIM_CHANNEL`, `MNE_STIM_CHANNEL_1`, etc. If those are\n",
    "not found, channels `STI 014` and `STI101` are tried, followed by the first channel with type \"STIM\" present in `raw.ch_names`. If you regularlym work with data from several different MEG systems with different STIM channel names, setting the `MNE_STIM_CHANNEL` config variable may not be very\n",
    "useful, but for researchers whose data is all from a single system it can be a time-saver to configure that variable once and then forget about it.\n",
    "\n",
    "`mne.find_events` has several options, including options for aligning events to the onset or offset of the STIM channel pulses, setting the minimum pulse duration, and handling of consecutive pulses (with no return to zero between them). For example, you can effectively encode event duration by passing `output='step'` to `mne.find_events`; see the documentation of `~mne.find_events` for details. More information on working with\n",
    "events arrays (including how to plot, combine, load, and save event arrays) can be found in the tutorial `tut-event-arrays`.\n",
    "\n",
    "\n",
    "## Reading embedded events as Annotations\n",
    "\n",
    "Some EEG/MEG systems generate files where events are stored in a separate data array rather than as pulses on one or more STIM channels. For example,the EEGLAB format stores events as a collection of arrays in the :file:`.set` file. When reading those files, MNE-Python will automatically convert the stored events into an `~mne.Annotations` object and store it as the :attr:`~mne.io.Raw.annotations` attribute of the `~mne.io.Raw` object:"
   ]
  },
  {
   "cell_type": "code",
   "execution_count": null,
   "metadata": {
    "collapsed": false,
    "jupyter": {
     "outputs_hidden": false
    },
    "tags": []
   },
   "outputs": [],
   "source": [
    "# testing_data_folder = mne.datasets.testing.data_path()\n",
    "# eeglab_raw_file = testing_data_folder / 'EEGLAB' / 'test_raw.set'\n",
    "\n",
    "eeglab_raw_file = os.path.join(TESTING_DATA_DIR,\"EEGLAB\", \"test_raw.set\")\n",
    "eeglab_raw = mne.io.read_raw_eeglab(eeglab_raw_file)\n",
    "print(eeglab_raw.annotations)"
   ]
  },
  {
   "cell_type": "markdown",
   "metadata": {},
   "source": [
    "The core data within an `~mne.Annotations` object is accessible\n",
    "through three of its attributes: ``onset``, ``duration``, and\n",
    "``description``. Here we can see that there were 154 events stored in the\n",
    "EEGLAB file, they all had a duration of zero seconds, there were two\n",
    "different types of events, and the first event occurred about 1 second after\n",
    "the recording began:\n",
    "\n"
   ]
  },
  {
   "cell_type": "code",
   "execution_count": null,
   "metadata": {
    "collapsed": false,
    "jupyter": {
     "outputs_hidden": false
    },
    "tags": []
   },
   "outputs": [],
   "source": [
    "print(len(eeglab_raw.annotations))\n",
    "print(set(eeglab_raw.annotations.duration))\n",
    "print(set(eeglab_raw.annotations.description))\n",
    "print(eeglab_raw.annotations.onset[0])"
   ]
  },
  {
   "cell_type": "markdown",
   "metadata": {},
   "source": [
    "More information on working with `~mne.Annotations` objects, including\n",
    "how to add annotations to `~mne.io.Raw` objects interactively, and how\n",
    "to plot, concatenate, load, save, and export `~mne.Annotations`\n",
    "objects can be found in the tutorial `tut-annotate-raw`."
   ]
  },
  {
   "cell_type": "markdown",
   "metadata": {},
   "source": [
    "## Converting between Events arrays and Annotations Objects\n",
    "\n",
    "After reading Events successfully, the events `arrays` or `mne.Annotations` object can be converted from either one to another.\n",
    "\n",
    "* Events array is needed for epoching continuous data, \n",
    "* Annotations object automatically omit spans of data if they overlap with certain annotations, making it event-aware\n",
    "* function `mne.events_from_annotations` is used to convert an `mne.Annotations` object to an Events array. f This function will assign an integer Event ID to each unique element of `raw.annotations.description`, and will return the mapping of descriptions to integer \n",
    "* Event IDs along with the derived Event array\n",
    "* By default, one event will be created at the onset of each annotation, this can be modified via `chunk_duration` parameter of `mne.events_from_annotations` to create equally spaced events within each annotation span (see `chunk-duration`\n",
    "\n",
    "The following cell shows the direct creation of an Events array of equally-spaced events"
   ]
  },
  {
   "cell_type": "code",
   "execution_count": null,
   "metadata": {
    "collapsed": false,
    "jupyter": {
     "outputs_hidden": false
    },
    "tags": []
   },
   "outputs": [],
   "source": [
    "events_from_annot, event_dict = mne.events_from_annotations(eeglab_raw)\n",
    "print(event_dict)\n",
    "print(events_from_annot[:5])"
   ]
  },
  {
   "cell_type": "markdown",
   "metadata": {},
   "source": [
    "If you want to control which integers are mapped to each unique description value, you can pass a `dict` specifying the mapping as the `event_id` parameter of `mne.events_from_annotations`; this `dict` will be returned unmodified as the `event_dict`.\n",
    "\n",
    "Note that this `event_dict` can be used when creating `mne.Epochs` from `~mne.io.Raw` objects, as demonstrated in the tutorial `tut-epochs-class`.\n",
    "\n"
   ]
  },
  {
   "cell_type": "code",
   "execution_count": null,
   "metadata": {
    "collapsed": false,
    "jupyter": {
     "outputs_hidden": false
    },
    "tags": []
   },
   "outputs": [],
   "source": [
    "custom_mapping = {'rt': 77, 'square': 42}\n",
    "(events_from_annot,\n",
    " event_dict) = mne.events_from_annotations(eeglab_raw, event_id=custom_mapping)\n",
    "print(event_dict)\n",
    "print(events_from_annot[:5])"
   ]
  },
  {
   "cell_type": "markdown",
   "metadata": {},
   "source": [
    "To make the opposite conversion (from an Events array to an `mne.Annotations` object), you can create a mapping from integer Event ID to string descriptions, use `~mne.annotations_from_events` to construct the `mne.Annotations` object, and call the `mne.io.Raw.set_annotations` method to add the annotations to the\n",
    "`mne.io.Raw` object.\n",
    "\n",
    "Because the `sample data <sample-dataset>` was recorded on a Neuromag system (where sample numbering starts when the acquisition system is initiated, not when the *recording* is initiated), we also need to pass in\n",
    "the `orig_time` parameter so that the onsets are properly aligned relative to the start of recording:\n",
    "\n"
   ]
  },
  {
   "cell_type": "code",
   "execution_count": null,
   "metadata": {
    "collapsed": false,
    "jupyter": {
     "outputs_hidden": false
    },
    "tags": []
   },
   "outputs": [],
   "source": [
    "mapping = {1: 'auditory/left', 2: 'auditory/right', 3: 'visual/left',\n",
    "           4: 'visual/right', 5: 'smiley', 32: 'buttonpress'}\n",
    "annot_from_events = mne.annotations_from_events(\n",
    "    events=events, event_desc=mapping, sfreq=raw.info['sfreq'],\n",
    "    orig_time=raw.info['meas_date'])\n",
    "raw.set_annotations(annot_from_events)"
   ]
  },
  {
   "cell_type": "markdown",
   "metadata": {},
   "source": [
    "Now, the annotations will appear automatically when plotting the raw data,\n",
    "and will be color-coded by their label value:\n",
    "\n"
   ]
  },
  {
   "cell_type": "code",
   "execution_count": null,
   "metadata": {
    "collapsed": false,
    "jupyter": {
     "outputs_hidden": false
    },
    "tags": []
   },
   "outputs": [],
   "source": [
    "raw.plot(start=5, duration=5)"
   ]
  },
  {
   "cell_type": "markdown",
   "metadata": {},
   "source": [
    "\n",
    "## Making multiple events per annotation\n",
    "\n",
    "As mentioned above, you can generate equally-spaced events from an\n",
    "`~mne.Annotations` object using the ``chunk_duration`` parameter of\n",
    "`~mne.events_from_annotations`. For example, suppose we have an\n",
    "annotation in our `~mne.io.Raw` object indicating when the subject was\n",
    "in REM sleep, and we want to perform a resting-state analysis on those spans\n",
    "of data. We can create an Events array with a series of equally-spaced events\n",
    "within each \"REM\" span, and then use those events to generate (potentially\n",
    "overlapping) epochs that we can analyze further.\n",
    "\n"
   ]
  },
  {
   "cell_type": "code",
   "execution_count": null,
   "metadata": {
    "collapsed": false,
    "jupyter": {
     "outputs_hidden": false
    },
    "tags": []
   },
   "outputs": [],
   "source": [
    "# create the REM annotations\n",
    "rem_annot = mne.Annotations(onset=[5, 41],\n",
    "                            duration=[16, 11],\n",
    "                            description=['REM'] * 2)\n",
    "raw.set_annotations(rem_annot)\n",
    "(rem_events,\n",
    " rem_event_dict) = mne.events_from_annotations(raw, chunk_duration=1.5)"
   ]
  },
  {
   "cell_type": "markdown",
   "metadata": {},
   "source": [
    "Now we can check that our events indeed fall in the ranges 5-21 seconds and\n",
    "41-52 seconds, and are ~1.5 seconds apart (modulo some jitter due to the\n",
    "sampling frequency). Here are the event times rounded to the nearest\n",
    "millisecond:\n",
    "\n"
   ]
  },
  {
   "cell_type": "code",
   "execution_count": null,
   "metadata": {
    "collapsed": false,
    "jupyter": {
     "outputs_hidden": false
    },
    "tags": []
   },
   "outputs": [],
   "source": [
    "print(np.round((rem_events[:, 0] - raw.first_samp) / raw.info['sfreq'], 3))"
   ]
  }
 ],
 "metadata": {
  "kernelspec": {
   "display_name": "Python 3 (ipykernel)",
   "language": "python",
   "name": "python3"
  },
  "language_info": {
   "codemirror_mode": {
    "name": "ipython",
    "version": 3
   },
   "file_extension": ".py",
   "mimetype": "text/x-python",
   "name": "python",
   "nbconvert_exporter": "python",
   "pygments_lexer": "ipython3",
   "version": "3.11.0"
  }
 },
 "nbformat": 4,
 "nbformat_minor": 4
}
