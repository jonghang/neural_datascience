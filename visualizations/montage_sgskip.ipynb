{
 "cells": [
  {
   "cell_type": "markdown",
   "metadata": {},
   "source": [
    "# Plotting sensor layouts of EEG systems\n",
    "\n",
    "Load all or selected EEG system montages bundled with MNE-python, and display it on the __fsaverage template__ subject."
   ]
  },
  {
   "cell_type": "code",
   "execution_count": null,
   "metadata": {
    "collapsed": false,
    "jupyter": {
     "outputs_hidden": false
    },
    "tags": []
   },
   "outputs": [],
   "source": [
    "import sys\n",
    "import os\n",
    "import numpy as np\n",
    "import os.path as op\n",
    "sys.path.append(\"../\")\n",
    "from mne_path import PathHandler\n",
    "from glob import glob\n",
    "ph = PathHandler()\n",
    "\n",
    "import mne\n",
    "from mne.channels.montage import get_builtin_montages\n",
    "from mne.datasets import fetch_fsaverage\n",
    "from mne.viz import set_3d_title, set_3d_view\n",
    "\n",
    "TITLE_SIZE = 12\n",
    "%matplotlib inline"
   ]
  },
  {
   "cell_type": "markdown",
   "metadata": {},
   "source": [
    "Check all montages against a sphere\n",
    "\n"
   ]
  },
  {
   "cell_type": "code",
   "execution_count": null,
   "metadata": {
    "collapsed": false,
    "jupyter": {
     "outputs_hidden": false
    },
    "tags": []
   },
   "outputs": [],
   "source": [
    "for current_montage in get_builtin_montages()[:5]:\n",
    "    montage = mne.channels.make_standard_montage(current_montage)\n",
    "    info = mne.create_info(\n",
    "        ch_names=montage.ch_names, sfreq=100., ch_types='eeg')\n",
    "    info.set_montage(montage)\n",
    "    sphere = mne.make_sphere_model(r0='auto', head_radius='auto', info=info)\n",
    "    fig = mne.viz.plot_alignment(\n",
    "        # Plot options\n",
    "        show_axes=True, dig='fiducials', surfaces='head',\n",
    "        trans=mne.Transform(\"head\", \"mri\", trans=np.eye(4)),  # identity\n",
    "        bem=sphere, info=info)\n",
    "    set_3d_view(figure=fig, azimuth=135, elevation=80)\n",
    "    set_3d_title(figure=fig, title=current_montage,\n",
    "                size = TITLE_SIZE)"
   ]
  },
  {
   "cell_type": "markdown",
   "metadata": {},
   "source": [
    "Check all montages against fsaverage\n",
    "\n"
   ]
  },
  {
   "cell_type": "code",
   "execution_count": null,
   "metadata": {
    "collapsed": false,
    "jupyter": {
     "outputs_hidden": false
    }
   },
   "outputs": [],
   "source": [
    "subjects_dir = op.dirname(fetch_fsaverage())\n",
    "\n",
    "for current_montage in get_builtin_montages()[10:16]:\n",
    "# for current_montage in get_builtin_montages():\n",
    "    montage = mne.channels.make_standard_montage(current_montage)\n",
    "    # Create dummy info\n",
    "    info = mne.create_info(\n",
    "        ch_names=montage.ch_names, sfreq=100., ch_types='eeg')\n",
    "    info.set_montage(montage)\n",
    "    fig = mne.viz.plot_alignment(\n",
    "        # Plot options\n",
    "        show_axes=True, dig='fiducials', surfaces='head', mri_fiducials=True,\n",
    "        subject='fsaverage', subjects_dir=subjects_dir, info=info,\n",
    "        coord_frame='mri',\n",
    "        trans='fsaverage',  # transform from head coords to fsaverage's MRI\n",
    "    )\n",
    "    set_3d_view(figure=fig, azimuth=135, elevation=80)\n",
    "    set_3d_title(figure=fig, title=current_montage, \n",
    "                size = TITLE_SIZE)"
   ]
  },
  {
   "cell_type": "markdown",
   "metadata": {},
   "source": [
    "<pre>\n",
    "Authors: \n",
    "SIONG Jong Hang jonghang@gmail.com\n",
    "Alexandre Gramfort alexandre.gramfort@inria.fr\n",
    "Joan Massich mailsik@gmail.com\n",
    "\n",
    "License: BSD-3-Clause\n",
    "</pre>"
   ]
  }
 ],
 "metadata": {
  "kernelspec": {
   "display_name": "Python 3 (ipykernel)",
   "language": "python",
   "name": "python3"
  },
  "language_info": {
   "codemirror_mode": {
    "name": "ipython",
    "version": 3
   },
   "file_extension": ".py",
   "mimetype": "text/x-python",
   "name": "python",
   "nbconvert_exporter": "python",
   "pygments_lexer": "ipython3",
   "version": "3.11.0"
  }
 },
 "nbformat": 4,
 "nbformat_minor": 4
}
