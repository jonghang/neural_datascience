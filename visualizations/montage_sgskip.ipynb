{
 "cells": [
  {
   "cell_type": "markdown",
   "metadata": {},
   "source": [
    "# Plotting sensor layouts of EEG systems\n",
    "\n",
    "Load all or selected EEG system montages bundled with MNE-python, and display it on the __fsaverage template__ subject."
   ]
  },
  {
   "cell_type": "code",
   "execution_count": 1,
   "metadata": {
    "collapsed": false,
    "jupyter": {
     "outputs_hidden": false
    },
    "tags": []
   },
   "outputs": [],
   "source": [
    "import sys\n",
    "import os\n",
    "import numpy as np\n",
    "import os.path as op\n",
    "sys.path.append(\"../\")\n",
    "from mne_path import PathHandler\n",
    "from glob import glob\n",
    "ph = PathHandler()\n",
    "\n",
    "import mne\n",
    "from mne.channels.montage import get_builtin_montages\n",
    "from mne.datasets import fetch_fsaverage\n",
    "from mne.viz import set_3d_title, set_3d_view\n",
    "\n",
    "TITLE_SIZE = 12\n",
    "%matplotlib inline"
   ]
  },
  {
   "cell_type": "markdown",
   "metadata": {},
   "source": [
    "Check all montages against a sphere\n",
    "\n"
   ]
  },
  {
   "cell_type": "code",
   "execution_count": 2,
   "metadata": {
    "collapsed": false,
    "jupyter": {
     "outputs_hidden": false
    },
    "tags": []
   },
   "outputs": [
    {
     "name": "stdout",
     "output_type": "stream",
     "text": [
      "Fitted sphere radius:         97.8 mm\n",
      "Origin head coordinates:      -0.9 14.5 40.8 mm\n",
      "Origin device coordinates:    -0.9 14.5 40.8 mm\n",
      "\n",
      "Equiv. model fitting -> RV = 0.00491555 %\n",
      "mu1 = 0.943752    lambda1 = 0.139874\n",
      "mu2 = 0.662443    lambda2 = 0.696785\n",
      "mu3 = 0.290416    lambda3 = -0.0262893\n",
      "Set up EEG sphere model with scalp radius    97.8 mm\n",
      "\n",
      "Using pyvistaqt 3d backend.\n",
      "\n",
      "Channel types::\teeg: 343\n",
      "Fitted sphere radius:         98.1 mm\n",
      "Origin head coordinates:      -1.0 13.9 39.3 mm\n",
      "Origin device coordinates:    -1.0 13.9 39.3 mm\n",
      "\n",
      "Equiv. model fitting -> RV = 0.00491555 %\n",
      "mu1 = 0.943752    lambda1 = 0.139874\n",
      "mu2 = 0.662443    lambda2 = 0.696785\n",
      "mu3 = 0.290416    lambda3 = -0.0262893\n",
      "Set up EEG sphere model with scalp radius    98.1 mm\n",
      "\n",
      "Channel types::\teeg: 94\n",
      "Fitted sphere radius:         97.1 mm\n",
      "Origin head coordinates:      -0.9 14.5 41.0 mm\n",
      "Origin device coordinates:    -0.9 14.5 41.0 mm\n",
      "\n",
      "Equiv. model fitting -> RV = 0.00491555 %\n",
      "mu1 = 0.943752    lambda1 = 0.139874\n",
      "mu2 = 0.662443    lambda2 = 0.696785\n",
      "mu3 = 0.290416    lambda3 = -0.0262893\n",
      "Set up EEG sphere model with scalp radius    97.1 mm\n",
      "\n",
      "Channel types::\teeg: 65\n",
      "Fitted sphere radius:         97.6 mm\n",
      "Origin head coordinates:      -0.9 13.3 40.3 mm\n",
      "Origin device coordinates:    -0.9 13.3 40.3 mm\n",
      "\n",
      "Equiv. model fitting -> RV = 0.00491555 %\n",
      "mu1 = 0.943752    lambda1 = 0.139874\n",
      "mu2 = 0.662443    lambda2 = 0.696785\n",
      "mu3 = 0.290416    lambda3 = -0.0262893\n",
      "Set up EEG sphere model with scalp radius    97.6 mm\n",
      "\n",
      "Channel types::\teeg: 100\n",
      "Fitted sphere radius:         98.1 mm\n",
      "Origin head coordinates:      -0.7 13.6 39.3 mm\n",
      "Origin device coordinates:    -0.7 13.6 39.3 mm\n",
      "\n",
      "Equiv. model fitting -> RV = 0.00491555 %\n",
      "mu1 = 0.943752    lambda1 = 0.139874\n",
      "mu2 = 0.662443    lambda2 = 0.696785\n",
      "mu3 = 0.290416    lambda3 = -0.0262893\n",
      "Set up EEG sphere model with scalp radius    98.1 mm\n",
      "\n",
      "Channel types::\teeg: 74\n"
     ]
    }
   ],
   "source": [
    "for current_montage in get_builtin_montages()[:5]:\n",
    "    montage = mne.channels.make_standard_montage(current_montage)\n",
    "    info = mne.create_info(\n",
    "        ch_names=montage.ch_names, sfreq=100., ch_types='eeg')\n",
    "    info.set_montage(montage)\n",
    "    sphere = mne.make_sphere_model(r0='auto', head_radius='auto', info=info)\n",
    "    fig = mne.viz.plot_alignment(\n",
    "        # Plot options\n",
    "        show_axes=True, dig='fiducials', surfaces='head',\n",
    "        trans=mne.Transform(\"head\", \"mri\", trans=np.eye(4)),  # identity\n",
    "        bem=sphere, info=info)\n",
    "    set_3d_view(figure=fig, azimuth=135, elevation=80)\n",
    "    set_3d_title(figure=fig, title=current_montage,\n",
    "                size = TITLE_SIZE)"
   ]
  },
  {
   "cell_type": "markdown",
   "metadata": {},
   "source": [
    "Check all montages against fsaverage\n",
    "\n"
   ]
  },
  {
   "cell_type": "code",
   "execution_count": 3,
   "metadata": {
    "collapsed": false,
    "jupyter": {
     "outputs_hidden": false
    }
   },
   "outputs": [
    {
     "name": "stdout",
     "output_type": "stream",
     "text": [
      "0 files missing from root.txt in /Users/jonghang/mne_data/MNE-sample-data/subjects\n",
      "0 files missing from bem.txt in /Users/jonghang/mne_data/MNE-sample-data/subjects/fsaverage\n",
      "Using outer_skin.surf for head surface.\n",
      "Channel types::\teeg: 160\n",
      "Using outer_skin.surf for head surface.\n",
      "Channel types::\teeg: 256\n",
      "Using outer_skin.surf for head surface.\n",
      "Channel types::\teeg: 74\n",
      "Using outer_skin.surf for head surface.\n",
      "Channel types::\teeg: 61\n",
      "Using outer_skin.surf for head surface.\n",
      "Channel types::\teeg: 256\n",
      "Using outer_skin.surf for head surface.\n",
      "Channel types::\teeg: 33\n"
     ]
    }
   ],
   "source": [
    "subjects_dir = op.dirname(fetch_fsaverage())\n",
    "\n",
    "for current_montage in get_builtin_montages()[10:16]:\n",
    "# for current_montage in get_builtin_montages():\n",
    "    montage = mne.channels.make_standard_montage(current_montage)\n",
    "    # Create dummy info\n",
    "    info = mne.create_info(\n",
    "        ch_names=montage.ch_names, sfreq=100., ch_types='eeg')\n",
    "    info.set_montage(montage)\n",
    "    fig = mne.viz.plot_alignment(\n",
    "        # Plot options\n",
    "        show_axes=True, dig='fiducials', surfaces='head', mri_fiducials=True,\n",
    "        subject='fsaverage', subjects_dir=subjects_dir, info=info,\n",
    "        coord_frame='mri',\n",
    "        trans='fsaverage',  # transform from head coords to fsaverage's MRI\n",
    "    )\n",
    "    set_3d_view(figure=fig, azimuth=135, elevation=80)\n",
    "    set_3d_title(figure=fig, title=current_montage, \n",
    "                size = TITLE_SIZE)"
   ]
  },
  {
   "cell_type": "markdown",
   "metadata": {},
   "source": [
    "<pre>\n",
    "Authors: \n",
    "SIONG Jong Hang jonghang@gmail.com\n",
    "Alexandre Gramfort alexandre.gramfort@inria.fr\n",
    "Joan Massich mailsik@gmail.com\n",
    "\n",
    "License: BSD-3-Clause\n",
    "</pre>"
   ]
  }
 ],
 "metadata": {
  "kernelspec": {
   "display_name": "Python 3 (ipykernel)",
   "language": "python",
   "name": "python3"
  },
  "language_info": {
   "codemirror_mode": {
    "name": "ipython",
    "version": 3
   },
   "file_extension": ".py",
   "mimetype": "text/x-python",
   "name": "python",
   "nbconvert_exporter": "python",
   "pygments_lexer": "ipython3",
   "version": "3.11.0"
  }
 },
 "nbformat": 4,
 "nbformat_minor": 4
}
